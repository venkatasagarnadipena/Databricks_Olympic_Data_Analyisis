{
 "cells": [
  {
   "cell_type": "code",
   "execution_count": 0,
   "metadata": {
    "application/vnd.databricks.v1+cell": {
     "cellMetadata": {
      "byteLimit": 2048000,
      "rowLimit": 10000
     },
     "inputWidgets": {},
     "nuid": "c2114186-60a3-4cec-b6aa-99417202c266",
     "showTitle": false,
     "title": ""
    }
   },
   "outputs": [
    {
     "output_type": "display_data",
     "data": {
      "text/html": [
       "<style scoped>\n",
       "  .table-result-container {\n",
       "    max-height: 300px;\n",
       "    overflow: auto;\n",
       "  }\n",
       "  table, th, td {\n",
       "    border: 1px solid black;\n",
       "    border-collapse: collapse;\n",
       "  }\n",
       "  th, td {\n",
       "    padding: 5px;\n",
       "  }\n",
       "  th {\n",
       "    text-align: left;\n",
       "  }\n",
       "</style><div class='table-result-container'><table class='table-result'><thead style='background-color: white'><tr><th>path</th><th>name</th><th>size</th><th>modificationTime</th></tr></thead><tbody><tr><td>dbfs:/FileStore/tables/Olympic/Athletes.csv</td><td>Athletes.csv</td><td>418492</td><td>1705150607000</td></tr><tr><td>dbfs:/FileStore/tables/Olympic/Coaches.csv</td><td>Coaches.csv</td><td>16889</td><td>1705150606000</td></tr><tr><td>dbfs:/FileStore/tables/Olympic/EntriesGender.csv</td><td>EntriesGender.csv</td><td>1123</td><td>1705150606000</td></tr><tr><td>dbfs:/FileStore/tables/Olympic/Medals.csv</td><td>Medals.csv</td><td>2414</td><td>1705150606000</td></tr><tr><td>dbfs:/FileStore/tables/Olympic/Teams.csv</td><td>Teams.csv</td><td>35270</td><td>1705150606000</td></tr></tbody></table></div>"
      ]
     },
     "metadata": {
      "application/vnd.databricks.v1+output": {
       "addedWidgets": {},
       "aggData": [],
       "aggError": "",
       "aggOverflow": false,
       "aggSchema": [],
       "aggSeriesLimitReached": false,
       "aggType": "",
       "arguments": {},
       "columnCustomDisplayInfos": {},
       "data": [
        [
         "dbfs:/FileStore/tables/Olympic/Athletes.csv",
         "Athletes.csv",
         418492,
         1705150607000
        ],
        [
         "dbfs:/FileStore/tables/Olympic/Coaches.csv",
         "Coaches.csv",
         16889,
         1705150606000
        ],
        [
         "dbfs:/FileStore/tables/Olympic/EntriesGender.csv",
         "EntriesGender.csv",
         1123,
         1705150606000
        ],
        [
         "dbfs:/FileStore/tables/Olympic/Medals.csv",
         "Medals.csv",
         2414,
         1705150606000
        ],
        [
         "dbfs:/FileStore/tables/Olympic/Teams.csv",
         "Teams.csv",
         35270,
         1705150606000
        ]
       ],
       "datasetInfos": [],
       "dbfsResultPath": null,
       "isJsonSchema": true,
       "metadata": {
        "isDbfsCommandResult": false
       },
       "overflow": false,
       "plotOptions": {
        "customPlotOptions": {},
        "displayType": "table",
        "pivotAggregation": null,
        "pivotColumns": null,
        "xColumns": null,
        "yColumns": null
       },
       "removedWidgets": [],
       "schema": [
        {
         "metadata": "{}",
         "name": "path",
         "type": "\"string\""
        },
        {
         "metadata": "{}",
         "name": "name",
         "type": "\"string\""
        },
        {
         "metadata": "{}",
         "name": "size",
         "type": "\"long\""
        },
        {
         "metadata": "{}",
         "name": "modificationTime",
         "type": "\"long\""
        }
       ],
       "type": "table"
      }
     },
     "output_type": "display_data"
    }
   ],
   "source": [
    "# %fs ls /FileStore/tables/Olympic/"
   ]
  },
  {
   "cell_type": "code",
   "execution_count": 0,
   "metadata": {
    "application/vnd.databricks.v1+cell": {
     "cellMetadata": {
      "byteLimit": 2048000,
      "rowLimit": 10000
     },
     "inputWidgets": {},
     "nuid": "043402f6-2c14-44b5-ba02-d629e33441f8",
     "showTitle": false,
     "title": ""
    }
   },
   "outputs": [
    {
     "output_type": "stream",
     "name": "stdout",
     "output_type": "stream",
     "text": [
      "+-----------------+-------+-------------------+\n|PersonName       |Country|Discipline         |\n+-----------------+-------+-------------------+\n|AALERUD Katrine  |Norway |Cycling Road       |\n|ABAD Nestor      |Spain  |Artistic Gymnastics|\n|ABAGNALE Giovanni|Italy  |Rowing             |\n|ABALDE Alberto   |Spain  |Basketball         |\n|ABALDE Tamara    |Spain  |Basketball         |\n+-----------------+-------+-------------------+\nonly showing top 5 rows\n\n"
     ]
    }
   ],
   "source": [
    "df_athletes=spark.read.format(\"csv\").option(\"header\",True).option(\"delimiter\",\",\").option(\"inferscheam\",True).load(\"/FileStore/tables/Olympic/Athletes.csv\")\n",
    "df_athletes.show(5,truncate=False)"
   ]
  },
  {
   "cell_type": "code",
   "execution_count": 0,
   "metadata": {
    "application/vnd.databricks.v1+cell": {
     "cellMetadata": {
      "byteLimit": 2048000,
      "rowLimit": 10000
     },
     "inputWidgets": {},
     "nuid": "c8e1bc46-fdf1-493e-b194-a964a8026883",
     "showTitle": false,
     "title": ""
    }
   },
   "outputs": [
    {
     "output_type": "stream",
     "name": "stdout",
     "output_type": "stream",
     "text": [
      "+---------------------------+------------------------+-----------------+--------+\n|Name                       |Country                 |Discipline       |Event   |\n+---------------------------+------------------------+-----------------+--------+\n|ABDELMAGID Wael            |Egypt                   |Football         |null    |\n|ABE Junya                  |Japan                   |Volleyball       |null    |\n|ABE Katsuhiko              |Japan                   |Basketball       |null    |\n|ADAMA Cherif               |C�te d'Ivoire           |Football         |null    |\n|AGEBA Yuya                 |Japan                   |Volleyball       |null    |\n|AIKMAN Siegfried Gottlieb  |Japan                   |Hockey           |Men     |\n|AL SAADI Kais              |Germany                 |Hockey           |Men     |\n|ALAMEDA Lonni              |Canada                  |Baseball/Softball|Softball|\n|ALEKNO Vladimir            |Islamic Republic of Iran|Volleyball       |Men     |\n|ALEKSEEV Alexey            |ROC                     |Handball         |Women   |\n|ALLER CARBALLO Manuel Angel|Spain                   |Basketball       |null    |\n|ALSHEHRI Saad              |Saudi Arabia            |Football         |Men     |\n|ALY Kamal                  |Egypt                   |Football         |null    |\n|AMAYA GAITAN Fabian        |Puerto Rico             |Basketball       |null    |\n|AMO AGUADO Pablo           |Spain                   |Football         |null    |\n|ANDONOVSKI Vlatko          |United States of America|Football         |Women   |\n|ANNAN Alyson               |Netherlands             |Hockey           |Women   |\n|ARNAU CREUS Xavier         |Japan                   |Hockey           |Women   |\n|ARNOLD Graham              |Australia               |Football         |Men     |\n|AXNER Tomas                |Sweden                  |Handball         |Women   |\n+---------------------------+------------------------+-----------------+--------+\nonly showing top 20 rows\n\n"
     ]
    }
   ],
   "source": [
    "df=spark.read.format(\"csv\").option(\"header\",True).option(\"delimiter\",\",\").option(\"inferscheam\",True).load(\"/FileStore/tables/Olympic/Coaches.csv\")\n",
    "df.show(truncate=False)"
   ]
  },
  {
   "cell_type": "code",
   "execution_count": 0,
   "metadata": {
    "application/vnd.databricks.v1+cell": {
     "cellMetadata": {
      "byteLimit": 2048000,
      "rowLimit": 10000
     },
     "inputWidgets": {},
     "nuid": "53d195d0-c6d7-4095-84e7-b4a127e28143",
     "showTitle": false,
     "title": ""
    }
   },
   "outputs": [
    {
     "output_type": "stream",
     "name": "stdout",
     "output_type": "stream",
     "text": [
      "+-------------------+------+----+-----+\n|Discipline         |Female|Male|Total|\n+-------------------+------+----+-----+\n|3x3 Basketball     |32    |32  |64   |\n|Archery            |64    |64  |128  |\n|Artistic Gymnastics|98    |98  |196  |\n|Artistic Swimming  |105   |0   |105  |\n|Athletics          |969   |1072|2041 |\n+-------------------+------+----+-----+\nonly showing top 5 rows\n\n"
     ]
    }
   ],
   "source": [
    "df=spark.read.format(\"csv\").option(\"header\",True).option(\"delimiter\",\",\").option(\"inferscheam\",True).load(\"/FileStore/tables/Olympic/EntriesGender.csv\")\n",
    "df.show(5,truncate=False)"
   ]
  },
  {
   "cell_type": "code",
   "execution_count": 0,
   "metadata": {
    "application/vnd.databricks.v1+cell": {
     "cellMetadata": {
      "byteLimit": 2048000,
      "rowLimit": 10000
     },
     "inputWidgets": {},
     "nuid": "18862209-ec38-4993-ac50-a895d4b3edbd",
     "showTitle": false,
     "title": ""
    }
   },
   "outputs": [
    {
     "output_type": "stream",
     "name": "stdout",
     "output_type": "stream",
     "text": [
      "+----+--------------------------+----+------+------+-----+-------------+\n|Rank|Team_Country              |Gold|Silver|Bronze|Total|Rank by Total|\n+----+--------------------------+----+------+------+-----+-------------+\n|1   |United States of America  |39  |41    |33    |113  |1            |\n|2   |People's Republic of China|38  |32    |18    |88   |2            |\n|3   |Japan                     |27  |14    |17    |58   |5            |\n|4   |Great Britain             |22  |21    |22    |65   |4            |\n|5   |ROC                       |20  |28    |23    |71   |3            |\n+----+--------------------------+----+------+------+-----+-------------+\nonly showing top 5 rows\n\n"
     ]
    }
   ],
   "source": [
    "df=spark.read.format(\"csv\").option(\"header\",True).option(\"delimiter\",\",\").option(\"inferscheam\",True).load(\"/FileStore/tables/Olympic/Medals.csv\")\n",
    "df.show(5,truncate=False)"
   ]
  },
  {
   "cell_type": "code",
   "execution_count": 0,
   "metadata": {
    "application/vnd.databricks.v1+cell": {
     "cellMetadata": {
      "byteLimit": 2048000,
      "rowLimit": 10000
     },
     "inputWidgets": {},
     "nuid": "e80b75c8-a140-4190-9236-04bf79ed7007",
     "showTitle": false,
     "title": ""
    }
   },
   "outputs": [
    {
     "output_type": "stream",
     "name": "stdout",
     "output_type": "stream",
     "text": [
      "+-------------+--------------+--------------------------+------------+\n|TeamName     |Discipline    |Country                   |Event       |\n+-------------+--------------+--------------------------+------------+\n|Belgium      |3x3 Basketball|Belgium                   |Men         |\n|China        |3x3 Basketball|People's Republic of China|Men         |\n|China        |3x3 Basketball|People's Republic of China|Women       |\n|France       |3x3 Basketball|France                    |Women       |\n|Italy        |3x3 Basketball|Italy                     |Women       |\n|Japan        |3x3 Basketball|Japan                     |Men         |\n|Japan        |3x3 Basketball|Japan                     |Women       |\n|Latvia       |3x3 Basketball|Latvia                    |Men         |\n|Mongolia     |3x3 Basketball|Mongolia                  |Women       |\n|Netherlands  |3x3 Basketball|Netherlands               |Men         |\n|Poland       |3x3 Basketball|Poland                    |Men         |\n|ROC          |3x3 Basketball|ROC                       |Men         |\n|ROC          |3x3 Basketball|ROC                       |Women       |\n|Romania      |3x3 Basketball|Romania                   |Women       |\n|Serbia       |3x3 Basketball|Serbia                    |Men         |\n|United States|3x3 Basketball|United States of America  |Women       |\n|Australia    |Archery       |Australia                 |Men's Team  |\n|Australia    |Archery       |Australia                 |Mixed Team  |\n|Bangladesh   |Archery       |Bangladesh                |Mixed Team  |\n|Belarus      |Archery       |Belarus                   |Women's Team|\n+-------------+--------------+--------------------------+------------+\nonly showing top 20 rows\n\n"
     ]
    }
   ],
   "source": [
    "df=spark.read.format(\"csv\").option(\"header\",True).option(\"delimiter\",\",\").option(\"inferscheam\",True).load(\"/FileStore/tables/Olympic/Teams.csv\")\n",
    "df.show(truncate=False)"
   ]
  }
 ],
 "metadata": {
  "application/vnd.databricks.v1+notebook": {
   "dashboards": [],
   "language": "python",
   "notebookMetadata": {
    "mostRecentlyExecutedCommandWithImplicitDF": {
     "commandId": 2463473461841776,
     "dataframes": [
      "_sqldf"
     ]
    },
    "pythonIndentUnit": 4
   },
   "notebookName": "Analysis",
   "widgets": {}
  }
 },
 "nbformat": 4,
 "nbformat_minor": 0
}
