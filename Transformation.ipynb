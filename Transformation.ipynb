{
 "cells": [
  {
   "cell_type": "code",
   "execution_count": 0,
   "metadata": {
    "application/vnd.databricks.v1+cell": {
     "cellMetadata": {
      "byteLimit": 2048000,
      "rowLimit": 10000
     },
     "inputWidgets": {},
     "nuid": "ee0d3874-5bb2-4bb8-8159-6bf2d48b1e19",
     "showTitle": false,
     "title": ""
    }
   },
   "outputs": [],
   "source": [
    "from pyspark.sql.functions import *\n",
    "from pyspark.sql.window import *\n",
    "from pyspark.sql.types import *"
   ]
  },
  {
   "cell_type": "code",
   "execution_count": 0,
   "metadata": {
    "application/vnd.databricks.v1+cell": {
     "cellMetadata": {
      "byteLimit": 2048000,
      "rowLimit": 10000
     },
     "inputWidgets": {},
     "nuid": "f853429a-dba7-4afb-ad2a-020a5e647c5c",
     "showTitle": false,
     "title": ""
    }
   },
   "outputs": [
    {
     "output_type": "stream",
     "name": "stdout",
     "output_type": "stream",
     "text": [
      "+-----------------+-------+-------------------+\n|PersonName       |Country|Discipline         |\n+-----------------+-------+-------------------+\n|AALERUD Katrine  |Norway |Cycling Road       |\n|ABAD Nestor      |Spain  |Artistic Gymnastics|\n|ABAGNALE Giovanni|Italy  |Rowing             |\n|ABALDE Alberto   |Spain  |Basketball         |\n|ABALDE Tamara    |Spain  |Basketball         |\n+-----------------+-------+-------------------+\nonly showing top 5 rows\n\n"
     ]
    }
   ],
   "source": [
    "df_athletes=spark.read.format(\"csv\").option(\"header\",True).option(\"delimiter\",\",\").option(\"inferscheam\",True).load(\"/FileStore/tables/Olympic/Athletes.csv\")\n",
    "df_athletes.show(5,truncate=False)"
   ]
  },
  {
   "cell_type": "code",
   "execution_count": 0,
   "metadata": {
    "application/vnd.databricks.v1+cell": {
     "cellMetadata": {
      "byteLimit": 2048000,
      "rowLimit": 10000
     },
     "inputWidgets": {},
     "nuid": "14276429-cdfd-47d7-a7a9-2908acdfb626",
     "showTitle": false,
     "title": ""
    }
   },
   "outputs": [
    {
     "output_type": "stream",
     "name": "stdout",
     "output_type": "stream",
     "text": [
      "+---------------+-------------+----------+-----+\n|Name           |Country      |Discipline|Event|\n+---------------+-------------+----------+-----+\n|ABDELMAGID Wael|Egypt        |Football  |null |\n|ABE Junya      |Japan        |Volleyball|null |\n|ABE Katsuhiko  |Japan        |Basketball|null |\n|ADAMA Cherif   |C�te d'Ivoire|Football  |null |\n|AGEBA Yuya     |Japan        |Volleyball|null |\n+---------------+-------------+----------+-----+\nonly showing top 5 rows\n\n"
     ]
    }
   ],
   "source": [
    "df_coaches=spark.read.format(\"csv\").option(\"header\",True).option(\"delimiter\",\",\").option(\"inferscheam\",True).load(\"/FileStore/tables/Olympic/Coaches.csv\")\n",
    "df_coaches.show(5,truncate=False)"
   ]
  },
  {
   "cell_type": "code",
   "execution_count": 0,
   "metadata": {
    "application/vnd.databricks.v1+cell": {
     "cellMetadata": {
      "byteLimit": 2048000,
      "rowLimit": 10000
     },
     "inputWidgets": {},
     "nuid": "8e5dc906-93ad-467a-a58b-28832ba6be2f",
     "showTitle": false,
     "title": ""
    }
   },
   "outputs": [
    {
     "output_type": "stream",
     "name": "stdout",
     "output_type": "stream",
     "text": [
      "+--------------+-----------------------------+----------+\n|PersonName    |Name                         |Discipline|\n+--------------+-----------------------------+----------+\n|ABALDE Tamara |SCARIOLO Sergio              |Basketball|\n|ABALDE Tamara |LAZARO CORRAL Jesus          |Basketball|\n|ABALDE Tamara |GONZALEZ JARENO Angel        |Basketball|\n|ABALDE Tamara |MIRET GARCIA Daniel          |Basketball|\n|ABALDE Alberto|DIAZ FERNANDEZ Jenaro Manuel |Basketball|\n|ABALDE Alberto|ALLER CARBALLO Manuel Angel  |Basketball|\n|ABALDE Alberto|MIRET GARCIA Daniel          |Basketball|\n|ABALDE Tamara |ALLER CARBALLO Manuel Angel  |Basketball|\n|ABALDE Tamara |ZAMORA PEDREIRA Javier       |Basketball|\n|ABALDE Alberto|ZAMORA PEDREIRA Javier       |Basketball|\n|ABALDE Tamara |HERNANDEZ FRAILE Jose Ignacio|Basketball|\n|ABALO Luc     |KRUMBHOLZ Olivier            |Handball  |\n|ABALDE Alberto|MONDELO GARCIA Lucas         |Basketball|\n|ABALDE Alberto|HERNANDEZ FRAILE Jose Ignacio|Basketball|\n|ABALDE Tamara |PRADO BRANAS Joaquin         |Basketball|\n|ABALO Luc     |GILLE Guillaume              |Handball  |\n|ABALDE Alberto|PRADO BRANAS Joaquin         |Basketball|\n|ABALDE Tamara |MONDELO GARCIA Lucas         |Basketball|\n|ABALDE Alberto|LAZARO CORRAL Jesus          |Basketball|\n|ABALDE Alberto|SCARIOLO Sergio              |Basketball|\n+--------------+-----------------------------+----------+\nonly showing top 20 rows\n\n"
     ]
    }
   ],
   "source": [
    "# Identifing the Coaches who trained the Athlete\n",
    "df_athletes=df_athletes.alias(\"athletes\")\n",
    "df_coaches=df_coaches.alias(\"coaches\")\n",
    "df=df_athletes.join(df_coaches,(df_athletes.Discipline==df_coaches.Discipline)&(df_athletes.Country==df_coaches.Country),\"Left\")\\\n",
    "    .select(\"athletes.PersonName\",\"coaches.Name\",\"coaches.Discipline\").filter(df_coaches.Name.isNotNull()).distinct()\n",
    "df.show(truncate=False)"
   ]
  },
  {
   "cell_type": "code",
   "execution_count": 0,
   "metadata": {
    "application/vnd.databricks.v1+cell": {
     "cellMetadata": {
      "byteLimit": 2048000,
      "rowLimit": 10000
     },
     "inputWidgets": {},
     "nuid": "20c5a1d7-68ed-4b31-a705-2d0020a41263",
     "showTitle": false,
     "title": ""
    }
   },
   "outputs": [
    {
     "output_type": "stream",
     "name": "stdout",
     "output_type": "stream",
     "text": [
      "+-----------------------------+-----------------+-------+\n|Country                      |TotalSportsPlayed|ranking|\n+-----------------------------+-----------------+-------+\n|Dominica                     |2                |1      |\n|Andorra                      |2                |1      |\n|Lesotho                      |2                |1      |\n|Myanmar                      |2                |1      |\n|Brunei Darussalam            |2                |1      |\n|Somalia                      |2                |1      |\n|Marshall Islands             |2                |1      |\n|Tuvalu                       |2                |1      |\n|United Republic of Tanzania  |2                |1      |\n|St Vincent and the Grenadines|2                |1      |\n|Mauritania                   |2                |1      |\n|Central African Republic     |2                |1      |\n|Nauru                        |2                |1      |\n|Saint Kitts and Nevis        |2                |1      |\n|South Sudan                  |2                |1      |\n|Bermuda                      |2                |1      |\n|Vanuatu                      |2                |1      |\n|Comoros                      |3                |2      |\n|Yemen                        |3                |2      |\n|Kiribati                     |3                |2      |\n+-----------------------------+-----------------+-------+\nonly showing top 20 rows\n\n"
     ]
    }
   ],
   "source": [
    "# Display total sports played by each country and rank them based on the games played\n",
    "df=df_athletes.select(\"Country\",\"Discipline\").groupBy(col(\"Country\")).agg(count(\"Discipline\").alias(\"TotalSportsPlayed\"))\n",
    "df=df.withColumn(\"ranking\",dense_rank().over(Window.orderBy(col(\"TotalSportsPlayed\").asc())))\n",
    "df.show(truncate=False)"
   ]
  },
  {
   "cell_type": "code",
   "execution_count": 0,
   "metadata": {
    "application/vnd.databricks.v1+cell": {
     "cellMetadata": {
      "byteLimit": 2048000,
      "rowLimit": 10000
     },
     "inputWidgets": {},
     "nuid": "14439a68-6152-4bd2-b615-1997974f79fd",
     "showTitle": false,
     "title": ""
    }
   },
   "outputs": [
    {
     "output_type": "stream",
     "name": "stdout",
     "output_type": "stream",
     "text": [
      "+------------------------+-----------------------+\n|Country                 |number_of_player_played|\n+------------------------+-----------------------+\n|Chad                    |3                      |\n|Paraguay                |8                      |\n|Yemen                   |3                      |\n|Islamic Republic of Iran|66                     |\n|Chinese Taipei          |67                     |\n|Senegal                 |9                      |\n|Sweden                  |129                    |\n|Kiribati                |3                      |\n|Republic of Korea       |223                    |\n|Guyana                  |7                      |\n|Philippines             |18                     |\n|Eritrea                 |13                     |\n|Djibouti                |4                      |\n|Tonga                   |5                      |\n|Malaysia                |29                     |\n|Singapore               |23                     |\n|Fiji                    |28                     |\n|Turkey                  |102                    |\n|Malawi                  |5                      |\n|Iraq                    |4                      |\n+------------------------+-----------------------+\nonly showing top 20 rows\n\n"
     ]
    }
   ],
   "source": [
    "# Display the country which have played Volleyball and also the count of player palying for each country\n",
    "df=df_athletes.select(\"Country\",\"PersonName\").groupBy(\"Country\").agg(count(\"PersonName\").alias(\"number_of_player_played\")).drop(\"PersonName\")\n",
    "df.show(truncate=False)"
   ]
  },
  {
   "cell_type": "code",
   "execution_count": 0,
   "metadata": {
    "application/vnd.databricks.v1+cell": {
     "cellMetadata": {
      "byteLimit": 2048000,
      "rowLimit": 10000
     },
     "inputWidgets": {},
     "nuid": "c02b19cb-49e9-4bd0-ae6d-c559caa96f44",
     "showTitle": false,
     "title": ""
    }
   },
   "outputs": [
    {
     "output_type": "stream",
     "name": "stdout",
     "output_type": "stream",
     "text": [
      "+--------------------+-----------------------+-------+\n|Country             |number_of_player_played|ranking|\n+--------------------+-----------------------+-------+\n|Madagascar          |6                      |5      |\n|Malta               |6                      |5      |\n|Burundi             |6                      |5      |\n|Bangladesh          |6                      |5      |\n|Monaco              |6                      |5      |\n|Cape Verde          |6                      |5      |\n|Grenada             |6                      |5      |\n|Cook Islands        |6                      |5      |\n|Lebanon             |6                      |5      |\n|Antigua and Barbuda |6                      |5      |\n|Haiti               |6                      |5      |\n|Syrian Arab Republic|6                      |5      |\n+--------------------+-----------------------+-------+\n\n"
     ]
    }
   ],
   "source": [
    "#  Using the above dataframe display which country has the 5th rank in amount of players played\n",
    "df=df.withColumn(\"ranking\",dense_rank().over(Window.orderBy(\"number_of_player_played\")))\n",
    "df=df.filter(df.ranking==5)\n",
    "df.show(truncate=False)"
   ]
  },
  {
   "cell_type": "code",
   "execution_count": 0,
   "metadata": {
    "application/vnd.databricks.v1+cell": {
     "cellMetadata": {
      "byteLimit": 2048000,
      "rowLimit": 10000
     },
     "inputWidgets": {},
     "nuid": "41272199-d832-49c6-b093-3e1fe281434d",
     "showTitle": false,
     "title": ""
    }
   },
   "outputs": [
    {
     "output_type": "display_data",
     "data": {
      "text/html": [
       "<style scoped>\n",
       "  .table-result-container {\n",
       "    max-height: 300px;\n",
       "    overflow: auto;\n",
       "  }\n",
       "  table, th, td {\n",
       "    border: 1px solid black;\n",
       "    border-collapse: collapse;\n",
       "  }\n",
       "  th, td {\n",
       "    padding: 5px;\n",
       "  }\n",
       "  th {\n",
       "    text-align: left;\n",
       "  }\n",
       "</style><div class='table-result-container'><table class='table-result'><thead style='background-color: white'><tr><th>Team_Country</th><th>Medal_ranking</th><th>Medal_type</th></tr></thead><tbody><tr><td>Netherlands</td><td>7</td><td>Gold</td></tr><tr><td>France</td><td>7</td><td>Gold</td></tr><tr><td>Germany</td><td>7</td><td>Gold</td></tr><tr><td>Italy</td><td>7</td><td>Gold</td></tr><tr><td>Germany</td><td>7</td><td>Silver</td></tr><tr><td>Germany</td><td>7</td><td>Bronze</td></tr></tbody></table></div>"
      ]
     },
     "metadata": {
      "application/vnd.databricks.v1+output": {
       "addedWidgets": {},
       "aggData": [],
       "aggError": "",
       "aggOverflow": false,
       "aggSchema": [],
       "aggSeriesLimitReached": false,
       "aggType": "",
       "arguments": {},
       "columnCustomDisplayInfos": {},
       "data": [
        [
         "Netherlands",
         7,
         "Gold"
        ],
        [
         "France",
         7,
         "Gold"
        ],
        [
         "Germany",
         7,
         "Gold"
        ],
        [
         "Italy",
         7,
         "Gold"
        ],
        [
         "Germany",
         7,
         "Silver"
        ],
        [
         "Germany",
         7,
         "Bronze"
        ]
       ],
       "datasetInfos": [],
       "dbfsResultPath": null,
       "isJsonSchema": true,
       "metadata": {},
       "overflow": false,
       "plotOptions": {
        "customPlotOptions": {},
        "displayType": "table",
        "pivotAggregation": null,
        "pivotColumns": null,
        "xColumns": null,
        "yColumns": null
       },
       "removedWidgets": [],
       "schema": [
        {
         "metadata": "{}",
         "name": "Team_Country",
         "type": "\"string\""
        },
        {
         "metadata": "{}",
         "name": "Medal_ranking",
         "type": "\"integer\""
        },
        {
         "metadata": "{}",
         "name": "Medal_type",
         "type": "\"string\""
        }
       ],
       "type": "table"
      }
     },
     "output_type": "display_data"
    }
   ],
   "source": [
    "# Display the ranks of the country based on silver gold and bronze individually and print 7th rank for each catogory\n",
    "schema=StructType([StructField(\"Rank\",IntegerType()),\\\n",
    "    StructField(\"Team_Country\",StringType()),\\\n",
    "    StructField(\"Gold\",IntegerType()),\\\n",
    "    StructField(\"Silver\",IntegerType()),\\\n",
    "    StructField(\"Bronze\",IntegerType()),\\\n",
    "    StructField(\"Total\",IntegerType()),\\\n",
    "    StructField(\"Rank_by_Total\",IntegerType())])\n",
    "df_medals=spark.read.format(\"csv\").option(\"header\",True).option(\"delimiter\",\",\").schema(schema).load(\"/FileStore/tables/Olympic/Medals.csv\")\n",
    "    \n",
    "# Creating the Rank based on the medal counts\n",
    "df=df_medals.withColumn(\"Gold_ranking\",dense_rank().over(Window.orderBy(col(\"Gold\").desc())))\\\n",
    "    .withColumn(\"Silver_ranking\",dense_rank().over(Window.orderBy(col(\"Silver\").desc())))\\\n",
    "    .withColumn(\"Bronze_ranking\",dense_rank().over(Window.orderBy(col(\"Bronze\").desc())))\n",
    "df_gold=df.select(\"Team_Country\",\"Gold_ranking\").withColumnRenamed(\"Gold_ranking\",\"Medal_ranking\").withColumn(\"Medal_type\",lit(\"Gold\")).filter(col(\"Gold_ranking\")==7)\n",
    "df_silver=df.select(\"Team_Country\",\"Silver_ranking\").withColumnRenamed(\"Silver_ranking\",\"Medal_ranking\").withColumn(\"Medal_type\",lit(\"Silver\")).filter(col(\"Silver_ranking\")==7)\n",
    "df_bronze=df.select(\"Team_Country\",\"Bronze_ranking\").withColumnRenamed(\"Bronze_ranking\",\"Medal_ranking\").withColumn(\"Medal_type\",lit(\"Bronze\")).filter(col(\"Bronze_ranking\")==7)\n",
    "final_df=df_gold.union(df_silver)\n",
    "final_df=final_df.union(df_bronze)\n",
    "display(final_df)"
   ]
  },
  {
   "cell_type": "code",
   "execution_count": 0,
   "metadata": {
    "application/vnd.databricks.v1+cell": {
     "cellMetadata": {
      "byteLimit": 2048000,
      "rowLimit": 10000
     },
     "inputWidgets": {},
     "nuid": "8ce11dea-487b-423e-b9e4-9b93d4ff1f5d",
     "showTitle": false,
     "title": ""
    }
   },
   "outputs": [
    {
     "output_type": "display_data",
     "data": {
      "text/html": [
       "<style scoped>\n",
       "  .table-result-container {\n",
       "    max-height: 300px;\n",
       "    overflow: auto;\n",
       "  }\n",
       "  table, th, td {\n",
       "    border: 1px solid black;\n",
       "    border-collapse: collapse;\n",
       "  }\n",
       "  th, td {\n",
       "    padding: 5px;\n",
       "  }\n",
       "  th {\n",
       "    text-align: left;\n",
       "  }\n",
       "</style><div class='table-result-container'><table class='table-result'><thead style='background-color: white'><tr><th>Team_Country</th><th>Gold_ranking</th><th>Silver_ranking</th><th>Bronze_ranking</th></tr></thead><tbody><tr><td>Netherlands</td><td>7</td><td>null</td><td>null</td></tr><tr><td>France</td><td>7</td><td>null</td><td>null</td></tr><tr><td>Germany</td><td>7</td><td>null</td><td>null</td></tr><tr><td>Italy</td><td>7</td><td>null</td><td>null</td></tr><tr><td>Germany</td><td>null</td><td>7</td><td>null</td></tr><tr><td>Germany</td><td>null</td><td>null</td><td>7</td></tr></tbody></table></div>"
      ]
     },
     "metadata": {
      "application/vnd.databricks.v1+output": {
       "addedWidgets": {},
       "aggData": [],
       "aggError": "",
       "aggOverflow": false,
       "aggSchema": [],
       "aggSeriesLimitReached": false,
       "aggType": "",
       "arguments": {},
       "columnCustomDisplayInfos": {},
       "data": [
        [
         "Netherlands",
         7,
         null,
         null
        ],
        [
         "France",
         7,
         null,
         null
        ],
        [
         "Germany",
         7,
         null,
         null
        ],
        [
         "Italy",
         7,
         null,
         null
        ],
        [
         "Germany",
         null,
         7,
         null
        ],
        [
         "Germany",
         null,
         null,
         7
        ]
       ],
       "datasetInfos": [],
       "dbfsResultPath": null,
       "isJsonSchema": true,
       "metadata": {},
       "overflow": false,
       "plotOptions": {
        "customPlotOptions": {},
        "displayType": "table",
        "pivotAggregation": null,
        "pivotColumns": null,
        "xColumns": null,
        "yColumns": null
       },
       "removedWidgets": [],
       "schema": [
        {
         "metadata": "{}",
         "name": "Team_Country",
         "type": "\"string\""
        },
        {
         "metadata": "{}",
         "name": "Gold_ranking",
         "type": "\"integer\""
        },
        {
         "metadata": "{}",
         "name": "Silver_ranking",
         "type": "\"integer\""
        },
        {
         "metadata": "{}",
         "name": "Bronze_ranking",
         "type": "\"integer\""
        }
       ],
       "type": "table"
      }
     },
     "output_type": "display_data"
    }
   ],
   "source": [
    "df=df_medals.withColumn(\"Gold_ranking\",dense_rank().over(Window.orderBy(col(\"Gold\").desc())))\\\n",
    "    .withColumn(\"Silver_ranking\",dense_rank().over(Window.orderBy(col(\"Silver\").desc())))\\\n",
    "    .withColumn(\"Bronze_ranking\",dense_rank().over(Window.orderBy(col(\"Bronze\").desc())))\n",
    "df_gold=df.select(\"Team_Country\",\"Gold_ranking\").filter(col(\"Gold_ranking\")==7)\n",
    "df_silver=df.select(\"Team_Country\",\"Silver_ranking\").filter(col(\"Silver_ranking\")==7)\n",
    "df_bronze=df.select(\"Team_Country\",\"Bronze_ranking\").filter(col(\"Bronze_ranking\")==7)\n",
    "\n",
    "final_df=df_gold.unionByName(df_silver,True)\n",
    "final_df=final_df.unionByName(df_bronze,True)\n",
    "display(final_df)"
   ]
  },
  {
   "cell_type": "code",
   "execution_count": 0,
   "metadata": {
    "application/vnd.databricks.v1+cell": {
     "cellMetadata": {
      "byteLimit": 2048000,
      "rowLimit": 10000
     },
     "inputWidgets": {},
     "nuid": "049d4673-3e15-4973-8882-8db1374cc3e9",
     "showTitle": false,
     "title": ""
    }
   },
   "outputs": [
    {
     "output_type": "stream",
     "name": "stdout",
     "output_type": "stream",
     "text": [
      "+---------------------+------------------+\n|TeamName             |Women_teams_played|\n+---------------------+------------------+\n|Graudina/Kravcenoka  |1                 |\n|Pavan/Melissa        |1                 |\n|Huberli/Betschart    |1                 |\n|Keizer/Meppelink     |1                 |\n|Chinese Taipei       |2                 |\n|Sweden               |4                 |\n|Wang/X.Y.Xia         |1                 |\n|Republic of Korea    |8                 |\n|Makroguzova/Kholomina|1                 |\n|Singapore            |1                 |\n|Fiji                 |1                 |\n|Turkey               |2                 |\n|Germany              |12                |\n|France               |14                |\n|Hong Kong, China     |6                 |\n|Argentina            |2                 |\n|Belgium              |4                 |\n|Angola               |1                 |\n|Great Britain        |11                |\n|Ecuador              |1                 |\n+---------------------+------------------+\nonly showing top 20 rows\n\n"
     ]
    }
   ],
   "source": [
    "# Display the total count of teams played played for each country in women event\n",
    "df_teams=spark.read.format(\"csv\").option(\"header\",True).option(\"delimiter\",\",\").option(\"inferscheam\",True).load(\"/FileStore/tables/Olympic/Teams.csv\")\n",
    "\n",
    "df=df_teams.select(\"TeamName\",\"Event\").filter(col(\"Event\").contains(\"Women\")).groupBy(\"TeamName\").agg(count(col(\"event\")).alias(\"Women_teams_played\"))\n",
    "df.show(truncate=False)"
   ]
  },
  {
   "cell_type": "code",
   "execution_count": 0,
   "metadata": {
    "application/vnd.databricks.v1+cell": {
     "cellMetadata": {
      "byteLimit": 2048000,
      "rowLimit": 10000
     },
     "inputWidgets": {},
     "nuid": "54f4292f-e449-4b90-9915-68a162f5aa67",
     "showTitle": false,
     "title": ""
    }
   },
   "outputs": [
    {
     "output_type": "stream",
     "name": "stdout",
     "output_type": "stream",
     "text": [
      "+------------+----+------+------------+-------+\n|Team_Country|Gold|Silver|Total_medals|Ranking|\n+------------+----+------+------------+-------+\n|Sweden      |3   |6     |9           |1      |\n|Romania     |1   |3     |4           |2      |\n|Venezuela   |1   |3     |4           |2      |\n|Ecuador     |2   |1     |3           |3      |\n|South Africa|1   |2     |3           |3      |\n|Tunisia     |1   |1     |2           |4      |\n+------------+----+------+------------+-------+\n\n"
     ]
    }
   ],
   "source": [
    "# Display the country which have 0 Bronze and have both silver and gold medal and rank them based on total count of medals\n",
    "df=df_medals.select(\"Team_Country\",\"Gold\",\"Silver\",\"Bronze\").filter((col(\"Bronze\")==0)&((col(\"Gold\")!=0)&((col(\"Silver\")!=0))))\n",
    "df=df.withColumn(\"Total_medals\",col(\"Gold\")+col(\"Silver\"))\n",
    "df=df.withColumn(\"Ranking\",dense_rank().over(Window.orderBy(col(\"Total_medals\").desc()))).drop(\"Bronze\")\n",
    "df.show(truncate=False)"
   ]
  },
  {
   "cell_type": "code",
   "execution_count": 0,
   "metadata": {
    "application/vnd.databricks.v1+cell": {
     "cellMetadata": {
      "byteLimit": 2048000,
      "rowLimit": 10000
     },
     "inputWidgets": {},
     "nuid": "fabcc84a-eacf-4de9-86d2-121386fd9aa5",
     "showTitle": false,
     "title": ""
    }
   },
   "outputs": [
    {
     "output_type": "stream",
     "name": "stdout",
     "output_type": "stream",
     "text": [
      "+---------------+------------+--------------+--------------+\n|Team_Country   |Rolling_Gold|Rolling_Silver|Rolling_Bronze|\n+---------------+------------+--------------+--------------+\n|Bermuda        |22          |0             |0             |\n|Morocco        |22          |0             |0             |\n|Puerto Rico    |22          |0             |0             |\n|Bahamas        |44          |0             |0             |\n|Kosovo         |44          |0             |0             |\n|Bahrain        |0           |26            |0             |\n|Saudi Arabia   |0           |26            |0             |\n|Lithuania      |0           |26            |0             |\n|North Macedonia|0           |26            |0             |\n|Namibia        |0           |26            |0             |\n|Turkmenistan   |0           |26            |0             |\n|Tunisia        |22          |26            |0             |\n|Ecuador        |44          |26            |0             |\n|South Africa   |22          |46            |0             |\n|Romania        |22          |67            |0             |\n|Venezuela      |22          |67            |0             |\n|Sweden         |77          |135           |0             |\n|Botswana       |0           |0             |24            |\n|Burkina Faso   |0           |0             |24            |\n|C�te d'Ivoire  |0           |0             |24            |\n+---------------+------------+--------------+--------------+\nonly showing top 20 rows\n\n"
     ]
    }
   ],
   "source": [
    "# Display the rolling sum of total medals won in all the 3 position(silver,gold,bronze)\n",
    "df=df_medals.withColumn(\"Rolling_Gold\",sum(\"Gold\").over(Window.orderBy(\"Gold\")))\\\n",
    "    .withColumn(\"Rolling_Silver\",sum(\"Silver\").over(Window.orderBy(\"Silver\")))\\\n",
    "    .withColumn(\"Rolling_Bronze\",sum(\"Bronze\").over(Window.orderBy(\"Bronze\"))).drop(\"Gold\",\"Silver\",\"Bronze\",\"Rank\",\"Total\",\"Rank_by_Total\")\n",
    "df.show(truncate=False)"
   ]
  },
  {
   "cell_type": "code",
   "execution_count": 0,
   "metadata": {
    "application/vnd.databricks.v1+cell": {
     "cellMetadata": {
      "byteLimit": 2048000,
      "rowLimit": 10000
     },
     "inputWidgets": {},
     "nuid": "b3b1a622-6cc3-4529-8f6c-f55f7d4acd3c",
     "showTitle": false,
     "title": ""
    }
   },
   "outputs": [
    {
     "output_type": "stream",
     "name": "stdout",
     "output_type": "stream",
     "text": [
      "+---------------------+------+----+\n|Discipline           |Female|Male|\n+---------------------+------+----+\n|Artistic Swimming    |105   |0   |\n|Cycling BMX Freestyle|10    |9   |\n|Diving               |72    |71  |\n|Rhythmic Gymnastics  |96    |0   |\n+---------------------+------+----+\n\n"
     ]
    }
   ],
   "source": [
    "# Display all the Sports where women players are more in comaired to men players\n",
    "schema=StructType([StructField(\"Discipline\",StringType(),True),\\\n",
    "    StructField(\"Female\",IntegerType(),True),\\\n",
    "    StructField(\"Male\",IntegerType(),True),\\\n",
    "    StructField(\"Total\",IntegerType(),True)])\n",
    "df_entries_gender=spark.read.format(\"csv\").option(\"header\",True).option(\"delimiter\",\",\").schema(schema).load(\"/FileStore/tables/Olympic/EntriesGender.csv\")\n",
    "\n",
    "\n",
    "df=df_entries_gender.select(\"Discipline\",\"Female\",\"Male\").filter(col(\"Female\")>col(\"Male\"))\n",
    "df.show(truncate=False)"
   ]
  },
  {
   "cell_type": "code",
   "execution_count": 0,
   "metadata": {
    "application/vnd.databricks.v1+cell": {
     "cellMetadata": {
      "byteLimit": 2048000,
      "rowLimit": 10000
     },
     "inputWidgets": {},
     "nuid": "3d989fb9-b414-4272-a473-5696cd6cf193",
     "showTitle": false,
     "title": ""
    }
   },
   "outputs": [
    {
     "output_type": "stream",
     "name": "stdout",
     "output_type": "stream",
     "text": [
      "+---------------------+------+------------------+\n|Discipline           |Female|Rolling_Sum_Female|\n+---------------------+------+------------------+\n|Cycling BMX Freestyle|10    |10                |\n|Trampoline Gymnastics|16    |26                |\n|Sport Climbing       |20    |66                |\n|Surfing              |20    |66                |\n|Cycling BMX Racing   |24    |90                |\n|Marathon Swimming    |25    |115               |\n|3x3 Basketball       |32    |147               |\n|Modern Pentathlon    |36    |183               |\n|Cycling Mountain Bike|38    |221               |\n|Karate               |40    |301               |\n|Skateboarding        |40    |301               |\n|Canoe Slalom         |41    |342               |\n|Beach Volleyball     |48    |390               |\n|Triathlon            |55    |445               |\n|Golf                 |60    |505               |\n|Archery              |64    |569               |\n|Taekwondo            |65    |634               |\n|Cycling Road         |70    |704               |\n|Diving               |72    |776               |\n|Equestrian           |73    |849               |\n+---------------------+------+------------------+\nonly showing top 20 rows\n\n"
     ]
    }
   ],
   "source": [
    "# Display the rolling sum of total women players played in the Olympics\n",
    "df=df_entries_gender.select(\"Discipline\",\"Female\").withColumn(\"Rolling_Sum_Female\",sum(col(\"Female\")).over(Window.orderBy(col(\"Female\"))))\n",
    "df.show(truncate=False)"
   ]
  },
  {
   "cell_type": "code",
   "execution_count": 0,
   "metadata": {
    "application/vnd.databricks.v1+cell": {
     "cellMetadata": {
      "byteLimit": 2048000,
      "rowLimit": 10000
     },
     "inputWidgets": {},
     "nuid": "9de15199-1c24-4a40-af93-2664ccb62476",
     "showTitle": false,
     "title": ""
    }
   },
   "outputs": [
    {
     "output_type": "stream",
     "name": "stdout",
     "output_type": "stream",
     "text": [
      "+-----------------+-------------+\n|Discipline       |Count_Coaches|\n+-----------------+-------------+\n|Baseball/Softball|26           |\n|Basketball       |74           |\n|Handball         |29           |\n|Rugby Sevens     |25           |\n|Water Polo       |22           |\n|Volleyball       |45           |\n|Artistic Swimming|69           |\n|Hockey           |45           |\n|Football         |59           |\n+-----------------+-------------+\n\n"
     ]
    }
   ],
   "source": [
    "# Display the total count of couches availble for each sport based on country\n",
    "df_coaches=spark.read.format(\"csv\").option(\"header\",True).option(\"delimiter\",\",\").option(\"inferscheam\",True).load(\"/FileStore/tables/Olympic/Coaches.csv\")\n",
    "df=df_coaches.groupBy(col(\"Discipline\")).agg(count(col(\"Name\")).alias(\"Count_Coaches\"))\n",
    "df.show(truncate=False)"
   ]
  },
  {
   "cell_type": "code",
   "execution_count": 0,
   "metadata": {
    "application/vnd.databricks.v1+cell": {
     "cellMetadata": {
      "byteLimit": 2048000,
      "rowLimit": 10000
     },
     "inputWidgets": {},
     "nuid": "11e83e2e-055e-426c-aaba-6d0b6ea71708",
     "showTitle": false,
     "title": ""
    }
   },
   "outputs": [
    {
     "output_type": "stream",
     "name": "stdout",
     "output_type": "stream",
     "text": [
      "+-----------+-------+\n|Country    |Ranking|\n+-----------+-------+\n|Sweden     |3      |\n|Puerto Rico|3      |\n|Norway     |3      |\n|Ireland    |3      |\n|Slovenia   |3      |\n|Poland     |3      |\n|Austria    |3      |\n+-----------+-------+\n\n"
     ]
    }
   ],
   "source": [
    "# display country with the 3 highest count of couches send by them\n",
    "df=df_coaches.groupBy(col(\"Country\")).agg(count(\"Name\").alias(\"Total_couches\"))\n",
    "df=df.withColumn(\"Ranking\",dense_rank().over(Window.orderBy(\"Total_couches\"))).filter(col(\"Ranking\")==3).drop(\"Total_couches\")\n",
    "df.show(truncate=False)"
   ]
  },
  {
   "cell_type": "code",
   "execution_count": 0,
   "metadata": {
    "application/vnd.databricks.v1+cell": {
     "cellMetadata": {
      "byteLimit": 2048000,
      "rowLimit": 10000
     },
     "inputWidgets": {},
     "nuid": "3896ad0e-a530-442c-9034-902ab944d636",
     "showTitle": false,
     "title": ""
    }
   },
   "outputs": [
    {
     "output_type": "stream",
     "name": "stdout",
     "output_type": "stream",
     "text": [
      "+---------------------+\n|Discipline           |\n+---------------------+\n|3x3 Basketball       |\n|Archery              |\n|Artistic Gymnastics  |\n|Basketball           |\n|Beach Volleyball     |\n|Canoe Slalom         |\n|Cycling BMX Racing   |\n|Cycling Mountain Bike|\n|Golf                 |\n|Handball             |\n|Hockey               |\n|Marathon Swimming    |\n|Modern Pentathlon    |\n|Sailing              |\n|Shooting             |\n|Skateboarding        |\n|Sport Climbing       |\n|Surfing              |\n|Table Tennis         |\n|Taekwondo            |\n+---------------------+\nonly showing top 20 rows\n\n"
     ]
    }
   ],
   "source": [
    "# Display where number of men players are equal to number of women players and display the sports they played\n",
    "df=df_entries_gender.filter(col(\"Female\")==col(\"Male\")).select(\"Discipline\")\n",
    "df.show(truncate=False)"
   ]
  },
  {
   "cell_type": "code",
   "execution_count": 0,
   "metadata": {
    "application/vnd.databricks.v1+cell": {
     "cellMetadata": {
      "byteLimit": 2048000,
      "rowLimit": 10000
     },
     "inputWidgets": {},
     "nuid": "5f308f60-bae0-41d3-9144-ea3b6c6ac126",
     "showTitle": false,
     "title": ""
    }
   },
   "outputs": [
    {
     "output_type": "display_data",
     "data": {
      "text/html": [
       "<style scoped>\n",
       "  .table-result-container {\n",
       "    max-height: 300px;\n",
       "    overflow: auto;\n",
       "  }\n",
       "  table, th, td {\n",
       "    border: 1px solid black;\n",
       "    border-collapse: collapse;\n",
       "  }\n",
       "  th, td {\n",
       "    padding: 5px;\n",
       "  }\n",
       "  th {\n",
       "    text-align: left;\n",
       "  }\n",
       "</style><div class='table-result-container'><table class='table-result'><thead style='background-color: white'><tr><th>Discipline</th><th>Ranking_male</th><th>Ranking_Female</th></tr></thead><tbody><tr><td>Athletics</td><td>1</td><td>null</td></tr><tr><td>Athletics</td><td>null</td><td>1</td></tr></tbody></table></div>"
      ]
     },
     "metadata": {
      "application/vnd.databricks.v1+output": {
       "addedWidgets": {},
       "aggData": [],
       "aggError": "",
       "aggOverflow": false,
       "aggSchema": [],
       "aggSeriesLimitReached": false,
       "aggType": "",
       "arguments": {},
       "columnCustomDisplayInfos": {},
       "data": [
        [
         "Athletics",
         1,
         null
        ],
        [
         "Athletics",
         null,
         1
        ]
       ],
       "datasetInfos": [],
       "dbfsResultPath": null,
       "isJsonSchema": true,
       "metadata": {},
       "overflow": false,
       "plotOptions": {
        "customPlotOptions": {},
        "displayType": "table",
        "pivotAggregation": null,
        "pivotColumns": null,
        "xColumns": null,
        "yColumns": null
       },
       "removedWidgets": [],
       "schema": [
        {
         "metadata": "{}",
         "name": "Discipline",
         "type": "\"string\""
        },
        {
         "metadata": "{}",
         "name": "Ranking_male",
         "type": "\"integer\""
        },
        {
         "metadata": "{}",
         "name": "Ranking_Female",
         "type": "\"integer\""
        }
       ],
       "type": "table"
      }
     },
     "output_type": "display_data"
    }
   ],
   "source": [
    "# Display the mostly played sport in the event individually by men and by women in seperate row\n",
    "df_female=df_entries_gender.select(\"Discipline\",\"Female\").withColumn(\"Ranking_Female\",dense_rank().over(Window.orderBy(desc(\"Female\"))))\n",
    "df_female=df_female.filter(col(\"Ranking_Female\")==1)\n",
    "\n",
    "df_male=df_entries_gender.select(\"Discipline\",\"Male\").withColumn(\"Ranking_male\",dense_rank().over(Window.orderBy(desc(\"Male\"))))\n",
    "df_male=df_male.filter(col(\"Ranking_male\")==1)\n",
    "\n",
    "Final_df=df_male.unionByName(df_female,True).drop(\"Male\",\"Female\")\n",
    "display(Final_df)"
   ]
  },
  {
   "cell_type": "code",
   "execution_count": 0,
   "metadata": {
    "application/vnd.databricks.v1+cell": {
     "cellMetadata": {
      "byteLimit": 2048000,
      "rowLimit": 10000
     },
     "inputWidgets": {},
     "nuid": "9574db52-c377-4b73-a266-5aa637a339e9",
     "showTitle": false,
     "title": ""
    }
   },
   "outputs": [
    {
     "output_type": "stream",
     "name": "stdout",
     "output_type": "stream",
     "text": [
      "+----------+-----+\n|Discipline|Total|\n+----------+-----+\n|Athletics |2041 |\n+----------+-----+\n\n"
     ]
    }
   ],
   "source": [
    "# Display the mostly played sport in the event\n",
    "max_value=df_entries_gender.select(max(col(\"Total\")).alias(\"Mostly_played\")).collect()[0][0]\n",
    "df=df_entries_gender.filter(col(\"Total\")==max_value).drop(\"Male\",\"Female\")\n",
    "df.show(truncate=False)"
   ]
  },
  {
   "cell_type": "code",
   "execution_count": 0,
   "metadata": {
    "application/vnd.databricks.v1+cell": {
     "cellMetadata": {
      "byteLimit": 2048000,
      "rowLimit": 10000
     },
     "inputWidgets": {},
     "nuid": "30049b7d-2139-45c3-a195-d52966c81850",
     "showTitle": false,
     "title": ""
    }
   },
   "outputs": [
    {
     "output_type": "stream",
     "name": "stdout",
     "output_type": "stream",
     "text": [
      "+----+------------+----+------+------+-----+-------------+\n|Rank|Team_Country|Gold|Silver|Bronze|Total|Rank_by_Total|\n+----+------------+----+------+------+-----+-------------+\n+----+------------+----+------+------+-----+-------------+\n\n"
     ]
    }
   ],
   "source": [
    "# Display if any country went without any medals\n",
    "df=df_medals.filter(col(\"Total\")==0)\n",
    "df.show(truncate=False)"
   ]
  }
 ],
 "metadata": {
  "application/vnd.databricks.v1+notebook": {
   "dashboards": [],
   "language": "python",
   "notebookMetadata": {
    "mostRecentlyExecutedCommandWithImplicitDF": {
     "commandId": 752699192114042,
     "dataframes": [
      "_sqldf"
     ]
    },
    "pythonIndentUnit": 4
   },
   "notebookName": "Transformation",
   "widgets": {}
  }
 },
 "nbformat": 4,
 "nbformat_minor": 0
}
